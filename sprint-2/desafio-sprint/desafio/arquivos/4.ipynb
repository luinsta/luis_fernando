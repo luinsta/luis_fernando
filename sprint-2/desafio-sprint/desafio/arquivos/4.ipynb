{
 "cells": [
  {
   "cell_type": "markdown",
   "id": "6b51049f",
   "metadata": {},
   "source": [
    "Importando a biblioteca panda para manipulação de dados"
   ]
  },
  {
   "cell_type": "code",
   "execution_count": null,
   "id": "91cc0f82",
   "metadata": {},
   "outputs": [],
   "source": [
    "import pandas as pd"
   ]
  },
  {
   "cell_type": "markdown",
   "id": "70703fe0",
   "metadata": {},
   "source": [
    "Essa célula carrega o arquivo googleplaystore em um DataFrame e ,em seguida, remove as linhas duplicadas"
   ]
  },
  {
   "cell_type": "code",
   "execution_count": null,
   "id": "c76566d1",
   "metadata": {},
   "outputs": [],
   "source": [
    "df = pd.read_csv('googleplaystore.csv')\n",
    "df.drop_duplicates(inplace=True)"
   ]
  },
  {
   "cell_type": "markdown",
   "id": "53d7690e",
   "metadata": {},
   "source": [
    "Filtra linhas onde Installs não contém 'Free' ou '0';\n",
    "Remove os caracteres '+' e ',' da coluna Installs para que os valores possam ser convertidos em números inteiros;\n",
    "Converte a coluna Installs para o tipo de dado inteiro (int)"
   ]
  },
  {
   "cell_type": "code",
   "execution_count": null,
   "id": "57d78c98",
   "metadata": {},
   "outputs": [],
   "source": [
    "df = df[df['Installs'].str.contains('Free') == False]\n",
    "df = df[df['Installs'].str.contains('0') == False]\n",
    "df['Installs'] = df['Installs'].str.replace('+', '').str.replace(',', '').astype(int)"
   ]
  },
  {
   "cell_type": "markdown",
   "id": "fbe68eac",
   "metadata": {},
   "source": [
    "A coluna Price é convertida para um formato numérico para permitir comparações"
   ]
  },
  {
   "cell_type": "code",
   "execution_count": null,
   "id": "98dbe1ad",
   "metadata": {},
   "outputs": [],
   "source": [
    "df['Price'] = df['Price'].str.replace('$', '').astype(float)"
   ]
  },
  {
   "cell_type": "markdown",
   "id": "4490f649",
   "metadata": {},
   "source": [
    "Essa célula verifica se um aplicativo mais caro foi encontrado e exibe suas informações"
   ]
  },
  {
   "cell_type": "code",
   "execution_count": null,
   "id": "3ea98fe0",
   "metadata": {},
   "outputs": [],
   "source": [
    "if not most_expensive_app.empty:\n",
    "    app_name = most_expensive_app['App'].iloc[0]\n",
    "    app_price = most_expensive_app['Price'].iloc[0]\n",
    "    print(f\"O aplicativo mais caro no dataset é '{app_name}' com o preço de ${app_price:.2f}.\")\n",
    "else:\n",
    "    print(\"Não foi possível encontrar o aplicativo mais caro.\")"
   ]
  }
 ],
 "metadata": {
  "kernelspec": {
   "display_name": "Python 3",
   "language": "python",
   "name": "python3"
  },
  "language_info": {
   "name": "python",
   "version": "3.13.3"
  }
 },
 "nbformat": 4,
 "nbformat_minor": 5
}
