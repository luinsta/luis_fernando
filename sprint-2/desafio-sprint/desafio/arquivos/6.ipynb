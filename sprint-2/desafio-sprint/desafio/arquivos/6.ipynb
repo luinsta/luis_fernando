{
 "cells": [
  {
   "cell_type": "markdown",
   "id": "53e4cf94",
   "metadata": {},
   "source": [
    "Importando a biblioteca panda para manipulação de dados"
   ]
  },
  {
   "cell_type": "code",
   "execution_count": null,
   "id": "a363e0c2",
   "metadata": {},
   "outputs": [],
   "source": [
    "import pandas as pd"
   ]
  },
  {
   "cell_type": "markdown",
   "id": "8b9c8a3a",
   "metadata": {},
   "source": [
    "Essa célula carrega o arquivo googleplaystore em um DataFrame e ,em seguida, remove as linhas duplicadas"
   ]
  },
  {
   "cell_type": "code",
   "execution_count": null,
   "id": "d72c8a57",
   "metadata": {},
   "outputs": [],
   "source": [
    "df = pd.read_csv('googleplaystore.csv')\n",
    "df.drop_duplicates(inplace=True)"
   ]
  },
  {
   "cell_type": "markdown",
   "id": "7c15697e",
   "metadata": {},
   "source": [
    "Essa celula prepara a coluna Reviews para análise numerica"
   ]
  },
  {
   "cell_type": "code",
   "execution_count": null,
   "id": "09ebbab0",
   "metadata": {},
   "outputs": [],
   "source": [
    "df['Reviews'] = pd.to_numeric(df['Reviews'], errors='coerce')\n",
    "\n",
    "df.dropna(subset=['Reviews'], inplace=True)"
   ]
  },
  {
   "cell_type": "markdown",
   "id": "68165d03",
   "metadata": {},
   "source": [
    "Aqui o código identifica os aplicativos com o maior número de avaliações"
   ]
  },
  {
   "cell_type": "code",
   "execution_count": null,
   "id": "b80b3eb3",
   "metadata": {},
   "outputs": [],
   "source": [
    "top_10_apps_by_reviews = df.nlargest(10, 'Reviews')"
   ]
  },
  {
   "cell_type": "markdown",
   "id": "82fbceff",
   "metadata": {},
   "source": [
    "Essa célula itera sobre o DataFrame top_10_apps_by_reviews e imprime o nome do aplicativo e o número de avaliações para cada um dos 10 principais"
   ]
  },
  {
   "cell_type": "code",
   "execution_count": null,
   "id": "af244357",
   "metadata": {},
   "outputs": [],
   "source": [
    "for index, row in top_10_apps_by_reviews.iterrows():\n",
    "    print(f\"App: {row['App']}, Reviews: {int(row['Reviews'])}\")"
   ]
  }
 ],
 "metadata": {
  "kernelspec": {
   "display_name": "Python 3",
   "language": "python",
   "name": "python3"
  },
  "language_info": {
   "name": "python",
   "version": "3.13.3"
  }
 },
 "nbformat": 4,
 "nbformat_minor": 5
}
