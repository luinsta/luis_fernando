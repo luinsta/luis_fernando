{
 "cells": [
  {
   "cell_type": "markdown",
   "id": "e4c756ac",
   "metadata": {},
   "source": [
    "Importando a biblioteca panda para manipulação de dados\n"
   ]
  },
  {
   "cell_type": "code",
   "execution_count": null,
   "id": "404941a3",
   "metadata": {},
   "outputs": [
    {
     "ename": "",
     "evalue": "",
     "output_type": "error",
     "traceback": [
      "\u001b[1;31mThe kernel failed to start as the Python Environment 'Python 3.11.13' is no longer available. Consider selecting another kernel or refreshing the list of Python Environments."
     ]
    }
   ],
   "source": [
    "import pandas as pd"
   ]
  },
  {
   "cell_type": "markdown",
   "id": "9bc7aed5",
   "metadata": {},
   "source": [
    "Aqui, o código tenta carregar o arquivo googleplaystore, caso o arquivo não seja encontrado, a mensagem de erro é exibida e o programa é encerrado\n"
   ]
  },
  {
   "cell_type": "code",
   "execution_count": null,
   "id": "d57f8af1",
   "metadata": {},
   "outputs": [],
   "source": [
    "try:\n",
    "    df = pd.read_csv('googleplaystore.csv')\n",
    "    print(\"Arquivo 'googleplaystore.csv' carregado com sucesso.\")\n",
    "except FileNotFoundError:\n",
    "    print(\"Erro: O arquivo 'googleplaystore.csv' não foi encontrado.\")\n",
    "    exit()"
   ]
  },
  {
   "cell_type": "markdown",
   "id": "4cdff7ad",
   "metadata": {},
   "source": [
    "Essa célula remove as linhas duplicadas do DataFrame\n"
   ]
  },
  {
   "cell_type": "code",
   "execution_count": null,
   "id": "374976cd",
   "metadata": {},
   "outputs": [],
   "source": [
    "linhas_antes = df.shape[0]\n",
    "\n",
    "df.drop_duplicates(inplace=True)\n",
    "\n",
    "linhas_depois = df.shape[0]"
   ]
  },
  {
   "cell_type": "markdown",
   "id": "6e11f870",
   "metadata": {},
   "source": [
    "Essa célula exibe a quantidade de linhas antes e depois da remoção das duplicatas, o total de linhas removidas e as cinco primeiras linhas do DataFrame atualizado"
   ]
  },
  {
   "cell_type": "code",
   "execution_count": null,
   "id": "87cecfe9",
   "metadata": {},
   "outputs": [],
   "source": [
    "print(f\"Número de linhas antes da remoção de duplicatas: {linhas_antes}\")\n",
    "print(f\"Número de linhas após a remoção de duplicatas: {linhas_depois}\")\n",
    "print(f\"Número de linhas duplicadas removidas: {linhas_antes - linhas_depois}\")\n",
    "\n",
    "print(\"\\nPrimeiras 5 linhas do DataFrame após remoção de duplicatas:\")\n",
    "print(df.head())"
   ]
  }
 ],
 "metadata": {
  "kernelspec": {
   "display_name": "Python 3",
   "language": "python",
   "name": "python3"
  },
  "language_info": {
   "name": "python",
   "version": "3.11.13"
  }
 },
 "nbformat": 4,
 "nbformat_minor": 5
}
