{
 "cells": [
  {
   "cell_type": "markdown",
   "id": "caef0281",
   "metadata": {},
   "source": [
    "Importando a biblioteca panda para manipulação de dados"
   ]
  },
  {
   "cell_type": "code",
   "execution_count": null,
   "id": "f4141d22",
   "metadata": {},
   "outputs": [],
   "source": [
    "import pandas as pd"
   ]
  },
  {
   "cell_type": "markdown",
   "id": "887b4fdd",
   "metadata": {},
   "source": [
    "Essa célula carrega o arquivo googleplaystore em um DataFrame e ,em seguida, remove as linhas duplicadas"
   ]
  },
  {
   "cell_type": "code",
   "execution_count": null,
   "id": "6c3c4d31",
   "metadata": {},
   "outputs": [],
   "source": [
    "df = pd.read_csv('googleplaystore.csv')\n",
    "df.drop_duplicates(inplace=True)"
   ]
  },
  {
   "cell_type": "markdown",
   "id": "445f07f9",
   "metadata": {},
   "source": [
    "Filtra linhas onde Installs não contém 'Free' ou '0';\n",
    "Remove os caracteres '+' e ',' da coluna Installs para que os valores possam ser convertidos em números inteiros;\n",
    "Converte a coluna Installs para o tipo de dado inteiro (int)"
   ]
  },
  {
   "cell_type": "code",
   "execution_count": null,
   "id": "726bc71c",
   "metadata": {},
   "outputs": [],
   "source": [
    "df = df[df['Installs'].astype(str).str.contains('Free') == False]\n",
    "df = df[df['Installs'].astype(str).str.contains('0') == False]\n",
    "df['Installs'] = df['Installs'].astype(str).str.replace('+', '').str.replace(',', '').astype(int)"
   ]
  },
  {
   "cell_type": "markdown",
   "id": "6b8bc1da",
   "metadata": {},
   "source": [
    "Essa celula limpa a coluna Reviews"
   ]
  },
  {
   "cell_type": "code",
   "execution_count": null,
   "id": "e6728e6d",
   "metadata": {},
   "outputs": [],
   "source": [
    "df['Reviews'] = pd.to_numeric(df['Reviews'], errors='coerce')\n",
    "df.dropna(subset=['Reviews'], inplace=True)"
   ]
  },
  {
   "cell_type": "markdown",
   "id": "3dd81369",
   "metadata": {},
   "source": [
    "Essa processa a coluna Rating"
   ]
  },
  {
   "cell_type": "code",
   "execution_count": null,
   "id": "81f7b511",
   "metadata": {},
   "outputs": [],
   "source": [
    "df['Rating'] = pd.to_numeric(df['Rating'], errors='coerce')\n",
    "df.dropna(subset=['Rating'], inplace=True)"
   ]
  },
  {
   "cell_type": "markdown",
   "id": "344009b3",
   "metadata": {},
   "source": [
    "Aqui o código identifica e exibe os aplicativos com as maiores avaliações"
   ]
  },
  {
   "cell_type": "code",
   "execution_count": null,
   "id": "33837b43",
   "metadata": {},
   "outputs": [],
   "source": [
    "top_10_rated_apps = df.nlargest(10, 'Rating')\n",
    "print(\"--- Top 10 Aplicativos por Avaliação ---\")\n",
    "print(top_10_rated_apps[['App', 'Rating']].to_string(index=False))"
   ]
  },
  {
   "cell_type": "markdown",
   "id": "5dbd3516",
   "metadata": {},
   "source": [
    "Essa célula calcula a avaliação média de todos os aplicativos válidos no DataFrame"
   ]
  },
  {
   "cell_type": "code",
   "execution_count": null,
   "id": "1135c074",
   "metadata": {},
   "outputs": [],
   "source": [
    "print(\"\\n\")\n",
    "\n",
    "average_rating = df['Rating'].mean()\n",
    "print(f\"A avaliação média de todos os aplicativos é: {average_rating:.2f}\")"
   ]
  }
 ],
 "metadata": {
  "kernelspec": {
   "display_name": "Python 3",
   "language": "python",
   "name": "python3"
  },
  "language_info": {
   "name": "python",
   "version": "3.13.3"
  }
 },
 "nbformat": 4,
 "nbformat_minor": 5
}
