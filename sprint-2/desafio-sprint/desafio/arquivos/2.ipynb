{
 "cells": [
  {
   "cell_type": "markdown",
   "id": "69ade892",
   "metadata": {},
   "source": [
    "Importando as duas bibliotecas que serão usadas"
   ]
  },
  {
   "cell_type": "code",
   "execution_count": null,
   "id": "516e1b47",
   "metadata": {},
   "outputs": [],
   "source": [
    "import pandas as pd\n",
    "import matplotlib.pyplot as plt"
   ]
  },
  {
   "cell_type": "markdown",
   "id": "9a9769dc",
   "metadata": {},
   "source": [
    "Essa célula carrega o arquivo googleplaystore.csv em um DataFrame e em seguida, remove as linhas duplicadas"
   ]
  },
  {
   "cell_type": "code",
   "execution_count": null,
   "id": "78fe2815",
   "metadata": {},
   "outputs": [],
   "source": [
    "df = pd.read_csv('googleplaystore.csv')\n",
    "df.drop_duplicates(inplace=True)"
   ]
  },
  {
   "cell_type": "markdown",
   "id": "e90b37b2",
   "metadata": {},
   "source": [
    "Filtra linhas onde Installs não contém 'Free' ou '0';\n",
    "Remove os caracteres '+' e ',' da coluna Installs para que os valores possam ser convertidos em números inteiros;\n",
    "Converte a coluna Installs para o tipo de dado inteiro (int)"
   ]
  },
  {
   "cell_type": "code",
   "execution_count": null,
   "id": "c1136094",
   "metadata": {},
   "outputs": [],
   "source": [
    "df = df[df['Installs'].str.contains('Free') == False]\n",
    "df = df[df['Installs'].str.contains('0') == False]\n",
    "df['Installs'] = df['Installs'].str.replace('+', '').str.replace(',', '').astype(int)"
   ]
  },
  {
   "cell_type": "markdown",
   "id": "885fc9f8",
   "metadata": {},
   "source": [
    "Essa usa o método nlargest() para achar os 5 aplicativos com maior número de instalações"
   ]
  },
  {
   "cell_type": "code",
   "execution_count": null,
   "id": "6383c2ef",
   "metadata": {},
   "outputs": [],
   "source": [
    "top_5_apps = df.nlargest(5, 'Installs')"
   ]
  },
  {
   "cell_type": "markdown",
   "id": "b3b76af1",
   "metadata": {},
   "source": [
    "Essa é responsável por criar e salvar a visualização de dados "
   ]
  },
  {
   "cell_type": "code",
   "execution_count": null,
   "id": "3a55ef82",
   "metadata": {},
   "outputs": [],
   "source": [
    "plt.figure(figsize=(10, 6))\n",
    "plt.bar(top_5_apps['App'], top_5_apps['Installs'], color='skyblue')\n",
    "plt.xlabel('Nome do Aplicativo')\n",
    "plt.ylabel('Número de Instalações')\n",
    "plt.title('Top 5 Aplicativos por Número de Instalações')\n",
    "plt.xticks(rotation=45, ha='right')\n",
    "plt.tight_layout()\n",
    "plt.savefig('top_5_installs_bar_chart.png')"
   ]
  }
 ],
 "metadata": {
  "kernelspec": {
   "display_name": "Python 3",
   "language": "python",
   "name": "python3"
  },
  "language_info": {
   "name": "python",
   "version": "3.13.3"
  }
 },
 "nbformat": 4,
 "nbformat_minor": 5
}
