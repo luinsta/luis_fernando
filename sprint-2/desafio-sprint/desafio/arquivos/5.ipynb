{
 "cells": [
  {
   "cell_type": "markdown",
   "id": "a05e9834",
   "metadata": {},
   "source": [
    "Importando a biblioteca panda para manipulação de dados"
   ]
  },
  {
   "cell_type": "code",
   "execution_count": null,
   "id": "7fbc74f6",
   "metadata": {},
   "outputs": [],
   "source": [
    "import pandas as pd"
   ]
  },
  {
   "cell_type": "markdown",
   "id": "31a71418",
   "metadata": {},
   "source": [
    "Essa célula carrega o arquivo googleplaystore em um DataFrame e ,em seguida, remove as linhas duplicadas"
   ]
  },
  {
   "cell_type": "code",
   "execution_count": null,
   "id": "49f2b638",
   "metadata": {},
   "outputs": [],
   "source": [
    "df = pd.read_csv('googleplaystore.csv')\n",
    "df.drop_duplicates(inplace=True)"
   ]
  },
  {
   "cell_type": "markdown",
   "id": "d46167a2",
   "metadata": {},
   "source": [
    "Filtra linhas onde Installs não contém 'Free' ou '0';\n",
    "Remove os caracteres '+' e ',' da coluna Installs para que os valores possam ser convertidos em números inteiros;\n",
    "Converte a coluna Installs para o tipo de dado inteiro (int)"
   ]
  },
  {
   "cell_type": "code",
   "execution_count": null,
   "id": "84da50a9",
   "metadata": {},
   "outputs": [],
   "source": [
    "df = df[df['Installs'].astype(str).str.contains('Free') == False]\n",
    "df = df[df['Installs'].astype(str).str.contains('0') == False]\n",
    "df['Installs'] = df['Installs'].astype(str).str.replace('+', '').str.replace(',', '').astype(int)"
   ]
  },
  {
   "cell_type": "markdown",
   "id": "94b48f70",
   "metadata": {},
   "source": [
    "Nessa celula o código filtra o DataFrame para encontrar aplicativos com a classificação de conteúdo \"Mature 17+\""
   ]
  },
  {
   "cell_type": "code",
   "execution_count": null,
   "id": "d8db2920",
   "metadata": {},
   "outputs": [],
   "source": [
    "mature_17_plus_apps_count = df[df['Content Rating'] == 'Mature 17+'].shape[0]"
   ]
  },
  {
   "cell_type": "markdown",
   "id": "e33c9a3f",
   "metadata": {},
   "source": [
    "Imprime o resultado final da contagem"
   ]
  },
  {
   "cell_type": "code",
   "execution_count": null,
   "id": "194443e1",
   "metadata": {},
   "outputs": [],
   "source": [
    "print(f\"O número de aplicativos classificados como 'Mature 17+' é: {mature_17_plus_apps_count}\")"
   ]
  }
 ],
 "metadata": {
  "kernelspec": {
   "display_name": "Python 3",
   "language": "python",
   "name": "python3"
  },
  "language_info": {
   "name": "python",
   "version": "3.13.3"
  }
 },
 "nbformat": 4,
 "nbformat_minor": 5
}
