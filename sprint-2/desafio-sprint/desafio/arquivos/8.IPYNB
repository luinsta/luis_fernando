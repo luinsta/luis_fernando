{
 "cells": [
  {
   "cell_type": "markdown",
   "id": "23353a7f",
   "metadata": {},
   "source": [
    "Importando as duas bibliotecas que serão usadas"
   ]
  },
  {
   "cell_type": "code",
   "execution_count": null,
   "id": "723c9bb6",
   "metadata": {},
   "outputs": [],
   "source": [
    "import pandas as pd\n",
    "import matplotlib.pyplot as plt"
   ]
  },
  {
   "cell_type": "markdown",
   "id": "209c9c50",
   "metadata": {},
   "source": [
    "Essa célula carrega o arquivo googleplaystore em um DataFrame e ,em seguida, remove as linhas duplicadas"
   ]
  },
  {
   "cell_type": "code",
   "execution_count": null,
   "id": "12c7b1d6",
   "metadata": {},
   "outputs": [],
   "source": [
    "df = pd.read_csv('googleplaystore.csv')\n",
    "df.drop_duplicates(inplace=True)"
   ]
  },
  {
   "cell_type": "markdown",
   "id": "2425a276",
   "metadata": {},
   "source": [
    "Filtra linhas onde Installs não contém 'Free' ou '0';\n",
    "Remove os caracteres '+' e ',' da coluna Installs para que os valores possam ser convertidos em números inteiros;\n",
    "Converte a coluna Installs para o tipo de dado inteiro (int)"
   ]
  },
  {
   "cell_type": "code",
   "execution_count": null,
   "id": "878f6ce4",
   "metadata": {},
   "outputs": [],
   "source": [
    "df = df[df['Installs'].astype(str).str.contains('Free') == False]\n",
    "df = df[df['Installs'].astype(str).str.contains('0') == False]\n",
    "df['Installs'] = df['Installs'].astype(str).str.replace('+', '').str.replace(',', '').astype(int)"
   ]
  },
  {
   "cell_type": "markdown",
   "id": "53636eb9",
   "metadata": {},
   "source": [
    "Essa celula limpa a coluna Reviews"
   ]
  },
  {
   "cell_type": "code",
   "execution_count": null,
   "id": "36b85d9b",
   "metadata": {},
   "outputs": [],
   "source": [
    "df['Reviews'] = pd.to_numeric(df['Reviews'], errors='coerce')\n",
    "df.dropna(subset=['Reviews'], inplace=True)"
   ]
  },
  {
   "cell_type": "markdown",
   "id": "45ce07a6",
   "metadata": {},
   "source": [
    "Essa processa a coluna Rating"
   ]
  },
  {
   "cell_type": "code",
   "execution_count": null,
   "id": "dbeaf412",
   "metadata": {},
   "outputs": [],
   "source": [
    "df['Rating'] = pd.to_numeric(df['Rating'], errors='coerce')\n",
    "df.dropna(subset=['Rating'], inplace=True)"
   ]
  },
  {
   "cell_type": "markdown",
   "id": "e71f827d",
   "metadata": {},
   "source": [
    "Aqui o código identifica os 5 aplicativos com o maior número de instalações e gera um gráfico de barras horizontal"
   ]
  },
  {
   "cell_type": "code",
   "execution_count": null,
   "id": "f95d903e",
   "metadata": {},
   "outputs": [],
   "source": [
    "top_5_installs = df.nlargest(5, 'Installs')\n",
    "\n",
    "plt.figure(figsize=(10, 6))\n",
    "plt.barh(top_5_installs['App'], top_5_installs['Installs'], color='lightgreen')\n",
    "plt.xlabel('Número de Instalações')\n",
    "plt.ylabel('Nome do Aplicativo')\n",
    "plt.title('Top 5 Aplicativos por Número de Instalações (Horizontal)')\n",
    "plt.gca().invert_yaxis()\n",
    "plt.tight_layout()\n",
    "plt.savefig('top_5_installs_horizontal_bar_chart.png')"
   ]
  },
  {
   "cell_type": "markdown",
   "id": "964cb7f8",
   "metadata": {},
   "source": [
    "Essa célula cria um gráfico de dispersão para visualizar a relação entre as avaliações (Rating) e o número de reviews (Reviews)"
   ]
  },
  {
   "cell_type": "code",
   "execution_count": null,
   "id": "b81591e5",
   "metadata": {},
   "outputs": [],
   "source": [
    "plt.figure(figsize=(10, 6))\n",
    "plt.scatter(df['Rating'], df['Reviews'], alpha=0.5, color='purple')\n",
    "plt.xlabel('Avaliação (Rating)')\n",
    "plt.ylabel('Número de Reviews')\n",
    "plt.title('Relação entre Avaliação e Número de Reviews')\n",
    "plt.grid(True)\n",
    "plt.tight_layout()\n",
    "plt.savefig('rating_vs_reviews_scatter_plot.png')"
   ]
  }
 ],
 "metadata": {
  "kernelspec": {
   "display_name": "Python 3",
   "language": "python",
   "name": "python3"
  },
  "language_info": {
   "name": "python",
   "version": "3.13.3"
  }
 },
 "nbformat": 4,
 "nbformat_minor": 5
}
