{
 "cells": [
  {
   "cell_type": "markdown",
   "id": "89ecc797",
   "metadata": {},
   "source": [
    "Importando as bibliotecas essenciais "
   ]
  },
  {
   "cell_type": "code",
   "execution_count": null,
   "id": "1c9f708d",
   "metadata": {},
   "outputs": [],
   "source": [
    "import pandas as pd\n",
    "import matplotlib.pyplot as plt"
   ]
  },
  {
   "cell_type": "markdown",
   "id": "e5840644",
   "metadata": {},
   "source": [
    "Essa célula carrega o arquivo googleplaystore em um DataFrame e ,em seguida, remove as linhas duplicadas"
   ]
  },
  {
   "cell_type": "code",
   "execution_count": null,
   "id": "00681245",
   "metadata": {},
   "outputs": [],
   "source": [
    "df = pd.read_csv('googleplaystore.csv')\n",
    "df.drop_duplicates(inplace=True)"
   ]
  },
  {
   "cell_type": "markdown",
   "id": "70c6b9b2",
   "metadata": {},
   "source": [
    "Conta a ocorrência de cada categoria única e armazena os resultados na variável category_counts \n",
    "category_counts será usada para criar o gráfico."
   ]
  },
  {
   "cell_type": "code",
   "execution_count": null,
   "id": "5a0afce6",
   "metadata": {},
   "outputs": [],
   "source": [
    "category_counts = df['Category'].value_counts()"
   ]
  },
  {
   "cell_type": "markdown",
   "id": "04f03f09",
   "metadata": {},
   "source": [
    "Essa célula é responsável por criar e salvar o gráfico de pizza"
   ]
  },
  {
   "cell_type": "code",
   "execution_count": null,
   "id": "410d007a",
   "metadata": {},
   "outputs": [],
   "source": [
    "plt.figure(figsize=(10, 8))\n",
    "plt.pie(category_counts, labels=category_counts.index, autopct='%1.1f%%', startangle=140)\n",
    "plt.title('Distribuição de Categorias de Aplicativos')\n",
    "plt.axis('equal')\n",
    "plt.tight_layout()\n",
    "plt.savefig('category_pie_chart.png')"
   ]
  }
 ],
 "metadata": {
  "kernelspec": {
   "display_name": "Python 3",
   "language": "python",
   "name": "python3"
  },
  "language_info": {
   "name": "python",
   "version": "3.13.3"
  }
 },
 "nbformat": 4,
 "nbformat_minor": 5
}
